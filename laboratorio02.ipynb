{
 "cells": [
  {
   "cell_type": "markdown",
   "metadata": {},
   "source": [
    "## Ejercicios realizados - Laboratorio 02 - Inteligencia Artificial 2025\n"
   ]
  },
  {
   "cell_type": "markdown",
   "metadata": {},
   "source": [
    "<small>Integrantes:\n",
    "\n",
    "1. Xavier López\n",
    "2. Gerson Ramirez\n",
    "3. Madeline Castro  \n",
    "   </small>\n"
   ]
  }
 ],
 "metadata": {
  "language_info": {
   "name": "python"
  }
 },
 "nbformat": 4,
 "nbformat_minor": 2
}
